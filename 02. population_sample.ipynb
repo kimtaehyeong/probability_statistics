{
 "cells": [
  {
   "cell_type": "markdown",
   "metadata": {},
   "source": [
    "# 01.모집단과 표본추출<br>\n",
    "- 모집단(모수) | 표본(통계량) | 표본추출"
   ]
  },
  {
   "cell_type": "code",
   "execution_count": null,
   "metadata": {},
   "outputs": [],
   "source": []
  },
  {
   "cell_type": "markdown",
   "metadata": {},
   "source": [
    "### 모집단(population)<br>\n",
    "- 통계분석 방법을 적용할 관심 대상의 전체 집합<br>\n",
    "    ex) 2017년 CGV 이용 고객, 쇼핑몰 회원 전체, 통신회사 전체 가입자<br>\n",
    "- 물리적 한계로 모집단 전체를 전수조사하기는 쉽지 않다.<br><br>\n",
    "\n",
    "### 표본(sample)<br>\n",
    "- 과학적인 절차를 적용하여 모집단을 대표할 수 있는 일부를 추출하여 <br>\n",
    "직접적인 조사 대상이 된 모집단의 일부\n",
    "   "
   ]
  },
  {
   "cell_type": "code",
   "execution_count": null,
   "metadata": {},
   "outputs": [],
   "source": []
  },
  {
   "cell_type": "markdown",
   "metadata": {},
   "source": [
    "### 모수(parameter)<br>\n",
    "- 모집단을 분석하여 얻어지는 결과 수치 <br>\n",
    "    ex) 모평균$(μ)$, 모분산$(σ^2)$, 모표준편차$(σ)$, 모비율$(p)$ <br><br>\n",
    "    \n",
    "\n",
    "### 통계량(statistic)<br>\n",
    "- 표본을 분석하여 얻어지는 결과 수치 <br>\n",
    "    ex) 표본평균$(\\bar{x})$, 표본분산$(s^2)$, 표본표준편차$(s)$, 표본비율$( \\widehat{p} )$"
   ]
  },
  {
   "cell_type": "markdown",
   "metadata": {},
   "source": [
    "![모집단과 표본](./images/1.png)"
   ]
  },
  {
   "cell_type": "code",
   "execution_count": null,
   "metadata": {},
   "outputs": [],
   "source": []
  },
  {
   "cell_type": "markdown",
   "metadata": {},
   "source": [
    "# 02.표본의 분포<br>\n",
    "- 표준화 | $z$분포 | $t$분포 | $x^2$분포 | $F$분포 | $\\widehat{p}$ 분포"
   ]
  },
  {
   "cell_type": "code",
   "execution_count": null,
   "metadata": {},
   "outputs": [],
   "source": []
  },
  {
   "cell_type": "markdown",
   "metadata": {},
   "source": [
    "### 표준화<br>\n",
    "- 정규분포 : 표본분포 중 가장 단순하면서 많이 나타나는 형태의 분포<br>\n",
    "    ->어떤 사건이 일어난 빈도(frequency)를 계산하여 그래프로 나타내면 중심(평균)을 기준으로 좌우가 대칭되는 분포<br>\n",
    "- 표준화(standardization) : 정규분포만을 이용해도 문제가 없지만, 대부분 복잡한 관계에 대한 분석 결과가 필요하여, 여러 특성에 대한 분석 결과들을 서로 비교할 수 있도록 만드는 과정<br>\n",
    "    -> 기준점을 동일하게 맞춰 자료들을 쉽게 비교할 수 있게, 표준정규분포는 평균은 0, 표준편차는 1로 만든다"
   ]
  },
  {
   "cell_type": "markdown",
   "metadata": {},
   "source": [
    "![정규분포](./images/2.png)"
   ]
  },
  {
   "cell_type": "code",
   "execution_count": null,
   "metadata": {},
   "outputs": [],
   "source": []
  },
  {
   "cell_type": "markdown",
   "metadata": {},
   "source": [
    "### z 분포\n",
    "- 표본의 개수가 충분할 때 표준화 과정을 거친 정규분포를 표준정규분포(standard normal distribution) or z분포라고 한다.<br>\n",
    "\n",
    "$z$ = ${X - μ  \\over {\\sigma / \\sqrt{n}} }$\n",
    "( $X$ : 측정치,  $μ$ : 평균,  $\\sigma / \\sqrt{n}$ : 표준오차 )\n"
   ]
  },
  {
   "cell_type": "code",
   "execution_count": null,
   "metadata": {},
   "outputs": [],
   "source": []
  },
  {
   "cell_type": "markdown",
   "metadata": {},
   "source": [
    "### t 분포\n",
    "- 표본이 충분하지 못한 경우, 즉 표본의 개수가 30개를 넘지 못하는 경우 t 분포를 사용<br>\n",
    "    -> 모집단은 정규분포를 이룬다는 가정이 필요하고, t분포도 `평균=0, 분산>1`인 정규분포를 따른다.\n",
    "\n",
    "$t_{n-1}$ = ${X - μ  \\over {\\ s / \\sqrt{n}} }$\n",
    "( $X$ : 측정치,  $μ$ : 평균,  $s / \\sqrt{n}$ : 표준오차, $n-1$ : 자유도 )\n"
   ]
  },
  {
   "cell_type": "code",
   "execution_count": null,
   "metadata": {},
   "outputs": [],
   "source": []
  },
  {
   "cell_type": "markdown",
   "metadata": {},
   "source": [
    "### z분포와 t분포의 관계<br>\n",
    "$z$ = ${X - μ  \\over {\\sigma / \\sqrt{n}} }$ $t_{n-1}$ = ${X - μ  \\over {\\ s / \\sqrt{n}} }$ 는 n 과 n-1을 제외하고 식이 동일<br>\n",
    "\n",
    "<br> n -> $\\infty$ 면 두 분포는 동일한 분포<br>\n",
    "![z분포와t분포의관계](./images/3.png)"
   ]
  },
  {
   "cell_type": "code",
   "execution_count": null,
   "metadata": {},
   "outputs": [],
   "source": []
  },
  {
   "cell_type": "markdown",
   "metadata": {},
   "source": [
    "### $x^2$분포<br>\n",
    "$x^2$분포는 정규분포로부터 도출되고, z분포의 제곱에 대한 분포<br>\n",
    "$\\therefore$항상 0보다 큰 값<br>\n",
    "확률변수 $x_1, x_2, x_3, \\cdots, x_n$이 표준정규분포이면서 독립이라면,<br>\n",
    "->$x_1^2, x_2^2, x_3^2, \\cdots, x_n^2$은 새로운 확률변수를 구성하게 되고,<br>\n",
    "이 분포를 자유도가 n 인 $x^2$분포라 한다.<br>\n",
    "$x^2$분포는 확률변수 $\\sum_{i=1}^n x_i^2$ ![x^2분포](./images/4.png)"
   ]
  },
  {
   "cell_type": "code",
   "execution_count": null,
   "metadata": {},
   "outputs": [],
   "source": []
  },
  {
   "cell_type": "markdown",
   "metadata": {},
   "source": [
    "### $F$분포<br>\n",
    "$F$분포는 두 개의 분산에 관한 추론 -> $F(v_1,v_2)$<br>\n",
    "$\\therefore v_1,v_2$는 각각의 $X^2$에 대한 분산<br><br>\n",
    "분산이 같은 모집단에서 $Xn, ym$만큼 표본을 구하고, 각각의 분산이<br>\n",
    "$v_1 = {S1 \\over (n-1)}, v_2 = {S2 \\over (m-1)} 일 때, F = {v_1 \\over v_2}$는 각 비율을 나타냄<br>\n",
    "\n",
    "![F분포](./images/5.png)"
   ]
  },
  {
   "cell_type": "code",
   "execution_count": null,
   "metadata": {},
   "outputs": [],
   "source": []
  },
  {
   "cell_type": "markdown",
   "metadata": {},
   "source": [
    "# 03. 표본분포와 중심극한정리<br>\n",
    "- 표본분포 | 표본평균의 오차 | 중심극한정리"
   ]
  },
  {
   "cell_type": "code",
   "execution_count": null,
   "metadata": {},
   "outputs": [],
   "source": []
  },
  {
   "cell_type": "markdown",
   "metadata": {},
   "source": [
    "### 표본분포와 표본평균의 오차<br>\n",
    "표본분포(sample distribution)는 표본에서 도출되는 통계량에 대한 확률분포<br>\n",
    "->표본분포는 모수를 추정하기 위한 표본 통계량의 확률분포 (여러 번 측정)<br>\n",
    "ex. 일주일간 통학 시간이 각각 (15, 24, 35, 41, 12, 25,33)분이 소요되었다면, 평균 통학 시간은?<br>\n",
    "$7일간의 평균 통학 시간 = {15+24+32+41+12+20+24 \\over 7} = 24$ <br>\n",
    "\n",
    "모집단의 구성이 7개로 되어 있어, 표본을 2개 추출하는 경우와 3개 추출하는 경우를 비교해보면<br>\n",
    "${_{7}\\mathrm{C}_{2}} = {7! \\over 2!\\cdot5!}$ = 420 <br>\n",
    "${_{7}\\mathrm{C}_{3}} = {7! \\over 3!\\cdot4!}$ = 35 <br>\n",
    "이고, `표본평균의 오차`는 표본의 개수가 늘어날수록 통계량이 모수와 가까워짐"
   ]
  },
  {
   "cell_type": "code",
   "execution_count": null,
   "metadata": {},
   "outputs": [],
   "source": []
  },
  {
   "cell_type": "markdown",
   "metadata": {},
   "source": [
    "### 중심극한정리<br>\n",
    "\n",
    "중심극한정리(Central Limit Theorem)는 표본의 개수(n)가 충분하다면 모수를 모르는 상황에서도 표본 통계량으로 정규분포를 구성하여 모수를 추정할 수 있다는 것<br>\n",
    "- 중심극한정리에서는 모집단이 정규분포를 이루지 않아도 표본의 개수가 충분하다면 정규분포를 이루게 된다.<br>\n",
    "- 중심극한정리를 이용하면 정규분포의 모양으로 확인할 수 있어서 평균을 바로 비교할 수 있다.<br>\n",
    "![중심극한정리](images/6.png)"
   ]
  },
  {
   "cell_type": "code",
   "execution_count": null,
   "metadata": {},
   "outputs": [],
   "source": []
  }
 ],
 "metadata": {
  "kernelspec": {
   "display_name": "Python 3",
   "language": "python",
   "name": "python3"
  },
  "language_info": {
   "codemirror_mode": {
    "name": "ipython",
    "version": 3
   },
   "file_extension": ".py",
   "mimetype": "text/x-python",
   "name": "python",
   "nbconvert_exporter": "python",
   "pygments_lexer": "ipython3",
   "version": "3.6.6"
  }
 },
 "nbformat": 4,
 "nbformat_minor": 2
}
