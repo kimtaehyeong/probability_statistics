{
 "cells": [
  {
   "cell_type": "markdown",
   "metadata": {},
   "source": [
    "# 통계학을 공부를 왜 해야되는걸까?"
   ]
  },
  {
   "cell_type": "markdown",
   "metadata": {},
   "source": [
    "### 1. 통계학을 적용한 자료는 신뢰성을 가진다<br>\n",
    "> 통계는 실생활에서 광범위하게 활용되고, 대부분의 정보는 통계를 통해 가공 되어 전달된다.<br>\n",
    "> 통계는 사회에서 발생할 수 있는 다양한 상황에서 신뢰할 수 있는 자료를 가공해 내고 이를 활용<br>\n",
    "### 2. 통계는 의사결정에 필요한 근거 자료를 제시한다<br>\n",
    "> 일상생활이나 현상 등을 수치화하기 위한 기준을 토대로 조사와 분석에서의 과학적 접근<br>\n",
    "> 비용 대비 최대의 효과를 얻을 수 있는 의사결정 가능<br>\n",
    "### 3. 통계는 현상을 분석하여 실증자료를 제시한다<br>\n",
    "> 현상을 분석하여 문제의 해결을 위한 다양한 원인을 찾을 수 있도록 자료 제공<br>\n",
    "> 소비자의 스마트폰 선택 기준은? ex) 디자인, 편의성, 유용성"
   ]
  },
  {
   "cell_type": "code",
   "execution_count": null,
   "metadata": {},
   "outputs": [],
   "source": []
  },
  {
   "cell_type": "markdown",
   "metadata": {},
   "source": [
    "# 통계학이란?<br>\n",
    "> 많은 양의 수치 자료를 수집하고, 정리, 요약 및 해석하는 방법을 다루는 과학의 한 분야이고 관측 자료를 바탕으로 추론(inference)를 하는 한 분야로서 불확실성(uncertainty)하에서 보다 합리적인 의사 결정을 하는 방법을 제시해 주는 학문<br><br>\n",
    "> 특히, (자료 수집), (정리), (해석) 이 세가지가 통계학의 핵심"
   ]
  },
  {
   "cell_type": "markdown",
   "metadata": {},
   "source": [
    "## 통계학은 크게 두 가지로 나뉜다.\n",
    "- 기술통계(descriptive statistics) : 표본에 대한 분석 결과의 각종 수치들을 활용하여 집단의 특성을 설명<br>\n",
    "- 추론통계(inference statistics) : 표본을 활용하여 모집단의 특성을 나타내는 것"
   ]
  },
  {
   "cell_type": "code",
   "execution_count": null,
   "metadata": {},
   "outputs": [],
   "source": []
  },
  {
   "cell_type": "markdown",
   "metadata": {},
   "source": [
    "# 통계학의 목적<br>\n",
    "> 의사결정, 불확실성의 해소, 요약, 연관성 파악, 예측을 통해 목적에 따라 다르게 이용될 수 있으며, 다양한 분야에서 현재의 상황을 통해 미래를 예측하는것이 핵심이라고 생각한다."
   ]
  },
  {
   "cell_type": "code",
   "execution_count": null,
   "metadata": {},
   "outputs": [],
   "source": []
  }
 ],
 "metadata": {
  "kernelspec": {
   "display_name": "Python 3",
   "language": "python",
   "name": "python3"
  },
  "language_info": {
   "codemirror_mode": {
    "name": "ipython",
    "version": 3
   },
   "file_extension": ".py",
   "mimetype": "text/x-python",
   "name": "python",
   "nbconvert_exporter": "python",
   "pygments_lexer": "ipython3",
   "version": "3.6.6"
  }
 },
 "nbformat": 4,
 "nbformat_minor": 2
}
